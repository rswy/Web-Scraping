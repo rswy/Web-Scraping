{
 "cells": [
  {
   "cell_type": "code",
   "execution_count": 84,
   "metadata": {
    "collapsed": true
   },
   "outputs": [],
   "source": [
    "import bs4 as bs\n",
    "from urllib.request import urlopen as uReq\n",
    "from bs4 import BeautifulSoup as soup\n",
    "import pandas as pd\n",
    "import re"
   ]
  },
  {
   "cell_type": "code",
   "execution_count": 6,
   "metadata": {
    "collapsed": true
   },
   "outputs": [],
   "source": [
    "# sauce =urllib.request.urlopen('http://headfi.org/').read()\n",
    "# soup = bs.BeautifulSoup(sauce,'lxml')\n",
    "\n",
    "myUrl= 'https://www.newegg.com/Video-Cards-Video-Devices/Category/ID-38'\n",
    "\n",
    "uClient = uReq(myUrl)\n",
    "\n",
    "page_html = uClient.read()\n",
    "\n",
    "uClient.close()"
   ]
  },
  {
   "cell_type": "code",
   "execution_count": 7,
   "metadata": {
    "collapsed": true
   },
   "outputs": [],
   "source": [
    "page_soup = soup(page_html,\"html.parser\")"
   ]
  },
  {
   "cell_type": "markdown",
   "metadata": {},
   "source": [
    "## Selecting indiv dom elements"
   ]
  },
  {
   "cell_type": "code",
   "execution_count": 9,
   "metadata": {
    "collapsed": false
   },
   "outputs": [
    {
     "data": {
      "text/plain": [
       "<p>Newegg.com - A great place to buy computers, computer parts, electronics, software, accessories, and DVDs online. With great prices, fast shipping, and top-rated customer service - once you know, you Newegg.</p>"
      ]
     },
     "execution_count": 9,
     "metadata": {},
     "output_type": "execute_result"
    }
   ],
   "source": [
    "page_soup.p"
   ]
  },
  {
   "cell_type": "markdown",
   "metadata": {},
   "source": [
    "## Traversing Elements "
   ]
  },
  {
   "cell_type": "code",
   "execution_count": 139,
   "metadata": {
    "collapsed": false
   },
   "outputs": [],
   "source": [
    "containers = page_soup.find_all(\"div\",{\"class\":\"item-container\"})"
   ]
  },
  {
   "cell_type": "code",
   "execution_count": 140,
   "metadata": {
    "collapsed": false
   },
   "outputs": [
    {
     "data": {
      "text/plain": [
       "12"
      ]
     },
     "execution_count": 140,
     "metadata": {},
     "output_type": "execute_result"
    }
   ],
   "source": [
    "len(containers)"
   ]
  },
  {
   "cell_type": "code",
   "execution_count": 141,
   "metadata": {
    "collapsed": false
   },
   "outputs": [],
   "source": [
    "container = containers[0]"
   ]
  },
  {
   "cell_type": "code",
   "execution_count": 142,
   "metadata": {
    "collapsed": false
   },
   "outputs": [],
   "source": [
    "brand = container.div.div.img['title']\n"
   ]
  },
  {
   "cell_type": "code",
   "execution_count": 143,
   "metadata": {
    "collapsed": false
   },
   "outputs": [
    {
     "data": {
      "text/plain": [
       "'GIGABYTE GeForce GTX 1060 Windforce OC GV-N1060WF2OC-6GD Video Card'"
      ]
     },
     "execution_count": 143,
     "metadata": {},
     "output_type": "execute_result"
    }
   ],
   "source": [
    "title = container.find('a',{'class':'item-title'}).text\n",
    "title"
   ]
  },
  {
   "cell_type": "code",
   "execution_count": 144,
   "metadata": {
    "collapsed": false
   },
   "outputs": [
    {
     "data": {
      "text/plain": [
       "['254.99']"
      ]
     },
     "execution_count": 144,
     "metadata": {},
     "output_type": "execute_result"
    }
   ],
   "source": [
    "price_current = re.findall('\\d+.\\d+', container.find('li',{'class':'price-current'}).text)\n",
    "price_current\n",
    "\n",
    "# <li class=\"price-current\">"
   ]
  },
  {
   "cell_type": "code",
   "execution_count": 145,
   "metadata": {
    "collapsed": true
   },
   "outputs": [
    {
     "name": "stdout",
     "output_type": "stream",
     "text": [
      "<div class=\"item-info\">\n",
      "<!--brand info-->\n",
      "<div class=\"item-branding\">\n",
      "<a class=\"item-brand\" href=\"https://www.newegg.com/GIGABYTE/BrandStore/ID-1314\">\n",
      "<img alt=\"GIGABYTE\" class=\" lazy-img\" data-effect=\"fadeIn\" data-src=\"//images10.newegg.com/Brandimage_70x28//Brand1314.gif\" src=\"//images10.newegg.com/WebResource/Themes/2005/Nest/blank.gif\" title=\"GIGABYTE\"/>\n",
      "</a>\n",
      "<!--rating info-->\n",
      "<a class=\"item-rating\" href=\"https://www.newegg.com/Product/Product.aspx?Item=N82E16814125901&amp;SortField=0&amp;SummaryType=0&amp;PageSize=10&amp;SelectedRating=-1&amp;VideoOnlyMark=False&amp;ignorebbr=1&amp;IsFeedbackTab=true#scrollFullInfo\" title=\"Rating + 5\"><i class=\"rating rating-5\"></i><span class=\"item-rating-num\">(96)</span></a>\n",
      "</div>\n",
      "<!--description info-->\n",
      "<a class=\"item-title\" href=\"https://www.newegg.com/Product/Product.aspx?Item=N82E16814125901&amp;ignorebbr=1\" title=\"View Details\"><i class=\"icon-premier icon-premier-xsm\"></i>GIGABYTE GeForce GTX 1060 Windforce OC GV-N1060WF2OC-6GD Video Card</a>\n",
      "<!--promption info-->\n",
      "<p class=\"item-promo\"></p>\n",
      "<!--feature-->\n",
      "<ul class=\"item-features\">\n",
      "<li><strong>Core Clock:</strong> OC Mode: 1582 MHz\n",
      "Gaming Mode: 1556 MHz</li><li><strong>Max Resolution:</strong> 7680 x 4320</li><li><strong>DisplayPort:</strong> 1 x DisplayPort 1.4</li><li><strong>DVI:</strong> 2 x Dual-link DVI-D</li>\n",
      "<li><strong>Model #: </strong>GV-N1060WF2OC-6GD</li>\n",
      "<li><strong>Item #: </strong>N82E16814125901</li>\n",
      "</ul>\n",
      "<div class=\"item-action\">\n",
      "<!--price-->\n",
      "<ul class=\"price has-label-membership \">\n",
      "<li class=\"price-was\">\r\n",
      "       $269.99\r\n",
      "            <span class=\"price-was-data\" style=\"display: none\">269.99</span>\n",
      "</li>\n",
      "<li class=\"price-map\">\n",
      "</li>\n",
      "<li class=\"price-current\">\n",
      "<span class=\"price-current-label\">\n",
      "<a class=\"membership-info membership-popup\" data-neg-popid=\"MembershipPopup\" href=\"javascript:void(0);\" name=\"membership\" style=\"display: inline\"><span class=\"membership-icon\"></span><span style=\"display: none\">|</span></a>\n",
      "</span>$<strong>254</strong><sup>.99</sup> <a class=\"price-current-num\" href=\"https://www.newegg.com/Product/Product.aspx?Item=N82E16814125901&amp;buyingoptions=New&amp;ignorebbr=1\">(6 Offers)</a>\n",
      "<span class=\"price-current-range\">\n",
      "<abbr title=\"to\">–</abbr>\n",
      "</span>\n",
      "</li>\n",
      "<li class=\"price-save\">\n",
      "<span class=\"price-save-endtime price-save-endtime-current\"></span>\n",
      "<span class=\"price-save-endtime price-save-endtime-another\" style=\"display:none;\"></span>\n",
      "<span class=\"price-save-label\">Save: </span>\n",
      "<span class=\"price-save-dollar\"></span>\n",
      "<span class=\"price-save-percent\">6%</span>\n",
      "</li>\n",
      "<li class=\"price-note\">\n",
      "<span class=\"price-note-dollar\" data-price=\"$234.99\">$234.99</span>\n",
      "<span class=\"price-note-label \"> after </span>\n",
      "<span class=\"price-note-dollar\">$20.00</span>\n",
      "<span class=\"price-note-label\"> rebate card</span>\n",
      "</li>\n",
      "<li class=\"price-ship\">\r\n",
      "        $4.99 Shipping\r\n",
      "    </li>\n",
      "</ul>\n",
      "<!--egg point-->\n",
      "<!--financing-->\n",
      "<!--button-->\n",
      "<div class=\"item-operate hidden-action-button \">\n",
      "<div class=\"item-button-area\">\n",
      "<button class=\"btn btn-mini \" onclick=\"Javascript:Biz.ProductList.Item.add('https://www.newegg.com/Product/Product.aspx?Item=N82E16814125901&amp;ignorebbr=1');\" title=\"View Details\" type=\"button\">View Details <i class=\"fa fa-caret-right\"></i></button>\n",
      "</div>\n",
      "<!--compare-->\n",
      "<div class=\"item-compare-box\">\n",
      "<label class=\"form-checkbox\">\n",
      "<input autocomplete=\"off\" id=\"CompareItem_14-125-901\" name=\"CompareItem\" neg-itemnumber=\"14-125-901\" type=\"checkbox\" value=\"CompareItem_14-125-901\">\n",
      "<span class=\"form-checkbox-title\">Compare</span>\n",
      "</input></label>\n",
      "</div>\n",
      "<script type=\"text/javascript\">\r\n",
      "                        Biz.Product.CompareConfig.compareItems.push(\"14-125-901\");\r\n",
      "                        var itemThumbs = new Object();\r\n",
      "                        itemThumbs.itemNumber = \"14-125-901\";\r\n",
      "                        itemThumbs.imageUrl = \"//images10.newegg.com/ProductImageCompressAll35/14-125-901-16.jpg\";\r\n",
      "                        Biz.Product.CompareConfig.Thumbs.push(itemThumbs);\r\n",
      "                    </script>\n",
      "</div>\n",
      "</div>\n",
      "</div>\n"
     ]
    }
   ],
   "source": [
    "name = container.div\n",
    "print(name)"
   ]
  },
  {
   "cell_type": "code",
   "execution_count": 146,
   "metadata": {
    "collapsed": true
   },
   "outputs": [],
   "source": [
    "brand_list = []\n",
    "title_list = []\n",
    "current_price_list = []\n"
   ]
  },
  {
   "cell_type": "code",
   "execution_count": 147,
   "metadata": {
    "collapsed": false,
    "scrolled": true
   },
   "outputs": [
    {
     "name": "stdout",
     "output_type": "stream",
     "text": [
      "Brand: GIGABYTE\n",
      "Title: GIGABYTE GeForce GTX 1060 Windforce OC GV-N1060WF2OC-6GD Video Card\n",
      "Current Price: 254.99\n",
      "\n",
      "\n",
      "Brand: XFX\n",
      "Title: XFX Radeon GTR RX 480 DirectX 12 RX-480P8DBA6 Black Edition Video Card\n",
      "Current Price: 259.99\n",
      "\n",
      "\n",
      "Brand: EVGA\n",
      "Title: EVGA GeForce GTX 1080 FTW GAMING ACX 3.0, 08G-P4-6286-KR, 8GB GDDR5X, RGB LED, 10CM FAN, 10 Power Phases, Double BIOS, DX12 OSD Support (PXOC)\n",
      "Current Price: 609.99\n",
      "\n",
      "\n",
      "Brand: MSI\n",
      "Title: MSI Radeon RX 480 DirectX 12 RX 480 ARMOR 8G OC Video Card\n",
      "Current Price: 219.99\n",
      "\n",
      "\n",
      "Brand: ASUS\n",
      "Title: ASUS GeForce GTX 1060 3GB Dual-fan OC Edition VR Ready Dual HDMI DP 1.4 Gaming Graphics Card (DUAL-GTX1060-O3G)\n",
      "Current Price: \n",
      "\n",
      "\n",
      "Brand: GIGABYTE\n",
      "Title: GIGABYTE GeForce GTX 1050 Ti DirectX 12 GV-N105TWF2OC-4GD Video Card\n",
      "Current Price: 154.99\n",
      "\n",
      "\n",
      "Brand: EVGA\n",
      "Title: EVGA GeForce GTX 1070 SC GAMING ACX 3.0, 08G-P4-6173-KR, 8GB GDDR5, LED, DX12 OSD Support (PXOC)\n",
      "Current Price: 399.99\n",
      "\n",
      "\n",
      "Brand: ZOTAC\n",
      "Title: ZOTAC GeForce GTX 1060 Mini, ZT-P10600A-10L, 6GB GDDR5 Super Compact\n",
      "Current Price: 224.99\n",
      "\n",
      "\n",
      "Brand: XFX\n",
      "Title: XFX Radeon RS RX 480 DirectX 12 RX-480P836BM 8GB 256-Bit GDDR5 PCI Express 3.0 CrossFireX Support Video Card\n",
      "Current Price: 241.99\n",
      "\n",
      "\n",
      "Brand: MSI\n",
      "Title: MSI Radeon RX 470 DirectX 12 RX 470 GAMING X 4G Video Card\n",
      "Current Price: 179.99\n",
      "\n",
      "\n",
      "Brand: ASUS\n",
      "Title: ASUS Dual-fan Radeon RX 480 4GB OC Edition AMD Gaming Graphics Card with DP 1.4 HDMI 2.0 (DUAL-RX480-O4G)\n",
      "Current Price: 192.99\n",
      "\n",
      "\n",
      "Brand: ZOTAC\n",
      "Title: ZOTAC GeForce GTX 1070 Mini, ZT-P10700G-10M, 8GB GDDR5\n",
      "Current Price: 379.99\n",
      "\n",
      "\n"
     ]
    }
   ],
   "source": [
    "for container in containers:\n",
    "    brand = container.div.div.img['title']\n",
    "    title = container.find('a',{'class':'item-title'}).text\n",
    "    price_current = re.findall('\\d+.\\d+', container.find('li',{'class':'price-current'}).text)\n",
    "    if len(price_current) > 0:\n",
    "        price_current=re.findall('\\d+.\\d+', container.find('li',{'class':'price-current'}).text)[0]\n",
    "    else:\n",
    "        price_current=\"\"\n",
    "    print(\"Brand: \" + brand)\n",
    "    brand_list.append(brand)\n",
    "    print(\"Title: \" +title)\n",
    "    title_list.append(title)\n",
    "    print(\"Current Price: \"+ str(price_current))\n",
    "    current_price_list.append(price_current)\n",
    "    print(\"\\n\")"
   ]
  },
  {
   "cell_type": "code",
   "execution_count": 148,
   "metadata": {
    "collapsed": false
   },
   "outputs": [
    {
     "name": "stdout",
     "output_type": "stream",
     "text": [
      "['GIGABYTE', 'XFX', 'EVGA', 'MSI', 'ASUS', 'GIGABYTE', 'EVGA', 'ZOTAC', 'XFX', 'MSI', 'ASUS', 'ZOTAC']\n",
      "['GIGABYTE GeForce GTX 1060 Windforce OC GV-N1060WF2OC-6GD Video Card', 'XFX Radeon GTR RX 480 DirectX 12 RX-480P8DBA6 Black Edition Video Card', 'EVGA GeForce GTX 1080 FTW GAMING ACX 3.0, 08G-P4-6286-KR, 8GB GDDR5X, RGB LED, 10CM FAN, 10 Power Phases, Double BIOS, DX12 OSD Support (PXOC)', 'MSI Radeon RX 480 DirectX 12 RX 480 ARMOR 8G OC Video Card', 'ASUS GeForce GTX 1060 3GB Dual-fan OC Edition VR Ready Dual HDMI DP 1.4 Gaming Graphics Card (DUAL-GTX1060-O3G)', 'GIGABYTE GeForce GTX 1050 Ti DirectX 12 GV-N105TWF2OC-4GD Video Card', 'EVGA GeForce GTX 1070 SC GAMING ACX 3.0, 08G-P4-6173-KR, 8GB GDDR5, LED, DX12 OSD Support (PXOC)', 'ZOTAC GeForce GTX 1060 Mini, ZT-P10600A-10L, 6GB GDDR5 Super Compact', 'XFX Radeon RS RX 480 DirectX 12 RX-480P836BM 8GB 256-Bit GDDR5 PCI Express 3.0 CrossFireX Support Video Card', 'MSI Radeon RX 470 DirectX 12 RX 470 GAMING X 4G Video Card', 'ASUS Dual-fan Radeon RX 480 4GB OC Edition AMD Gaming Graphics Card with DP 1.4 HDMI 2.0 (DUAL-RX480-O4G)', 'ZOTAC GeForce GTX 1070 Mini, ZT-P10700G-10M, 8GB GDDR5']\n",
      "['254.99', '259.99', '609.99', '219.99', '', '154.99', '399.99', '224.99', '241.99', '179.99', '192.99', '379.99']\n"
     ]
    }
   ],
   "source": [
    "print(brand_list)\n",
    "print(title_list)\n",
    "print(current_price_list)"
   ]
  },
  {
   "cell_type": "code",
   "execution_count": 149,
   "metadata": {
    "collapsed": false
   },
   "outputs": [],
   "source": [
    "data = {\"brand\":brand_list,\"title\":title_list,\"current_price_list\":current_price_list}"
   ]
  },
  {
   "cell_type": "markdown",
   "metadata": {},
   "source": [
    "### NOTES: Creating dataframe from a dictionary of lists \n",
    "http://pbpython.com/pandas-list-dict.html\n",
    "\n",
    "### NOTES: Creating dataframe from a dictionary where entries have different lengths\n",
    "http://stackoverflow.com/questions/19736080/creating-dataframe-from-a-dictionary-where-entries-have-different-lengths"
   ]
  },
  {
   "cell_type": "code",
   "execution_count": 154,
   "metadata": {
    "collapsed": false
   },
   "outputs": [
    {
     "data": {
      "text/html": [
       "<div>\n",
       "<table border=\"1\" class=\"dataframe\">\n",
       "  <thead>\n",
       "    <tr style=\"text-align: right;\">\n",
       "      <th></th>\n",
       "      <th>current_price_list</th>\n",
       "      <th>brand</th>\n",
       "      <th>title</th>\n",
       "    </tr>\n",
       "  </thead>\n",
       "  <tbody>\n",
       "    <tr>\n",
       "      <th>0</th>\n",
       "      <td>254.99</td>\n",
       "      <td>GIGABYTE</td>\n",
       "      <td>GIGABYTE GeForce GTX 1060 Windforce OC GV-N106...</td>\n",
       "    </tr>\n",
       "    <tr>\n",
       "      <th>1</th>\n",
       "      <td>259.99</td>\n",
       "      <td>XFX</td>\n",
       "      <td>XFX Radeon GTR RX 480 DirectX 12 RX-480P8DBA6 ...</td>\n",
       "    </tr>\n",
       "    <tr>\n",
       "      <th>2</th>\n",
       "      <td>609.99</td>\n",
       "      <td>EVGA</td>\n",
       "      <td>EVGA GeForce GTX 1080 FTW GAMING ACX 3.0, 08G-...</td>\n",
       "    </tr>\n",
       "    <tr>\n",
       "      <th>3</th>\n",
       "      <td>219.99</td>\n",
       "      <td>MSI</td>\n",
       "      <td>MSI Radeon RX 480 DirectX 12 RX 480 ARMOR 8G O...</td>\n",
       "    </tr>\n",
       "    <tr>\n",
       "      <th>4</th>\n",
       "      <td></td>\n",
       "      <td>ASUS</td>\n",
       "      <td>ASUS GeForce GTX 1060 3GB Dual-fan OC Edition ...</td>\n",
       "    </tr>\n",
       "    <tr>\n",
       "      <th>5</th>\n",
       "      <td>154.99</td>\n",
       "      <td>GIGABYTE</td>\n",
       "      <td>GIGABYTE GeForce GTX 1050 Ti DirectX 12 GV-N10...</td>\n",
       "    </tr>\n",
       "    <tr>\n",
       "      <th>6</th>\n",
       "      <td>399.99</td>\n",
       "      <td>EVGA</td>\n",
       "      <td>EVGA GeForce GTX 1070 SC GAMING ACX 3.0, 08G-P...</td>\n",
       "    </tr>\n",
       "    <tr>\n",
       "      <th>7</th>\n",
       "      <td>224.99</td>\n",
       "      <td>ZOTAC</td>\n",
       "      <td>ZOTAC GeForce GTX 1060 Mini, ZT-P10600A-10L, 6...</td>\n",
       "    </tr>\n",
       "    <tr>\n",
       "      <th>8</th>\n",
       "      <td>241.99</td>\n",
       "      <td>XFX</td>\n",
       "      <td>XFX Radeon RS RX 480 DirectX 12 RX-480P836BM 8...</td>\n",
       "    </tr>\n",
       "    <tr>\n",
       "      <th>9</th>\n",
       "      <td>179.99</td>\n",
       "      <td>MSI</td>\n",
       "      <td>MSI Radeon RX 470 DirectX 12 RX 470 GAMING X 4...</td>\n",
       "    </tr>\n",
       "    <tr>\n",
       "      <th>10</th>\n",
       "      <td>192.99</td>\n",
       "      <td>ASUS</td>\n",
       "      <td>ASUS Dual-fan Radeon RX 480 4GB OC Edition AMD...</td>\n",
       "    </tr>\n",
       "    <tr>\n",
       "      <th>11</th>\n",
       "      <td>379.99</td>\n",
       "      <td>ZOTAC</td>\n",
       "      <td>ZOTAC GeForce GTX 1070 Mini, ZT-P10700G-10M, 8...</td>\n",
       "    </tr>\n",
       "  </tbody>\n",
       "</table>\n",
       "</div>"
      ],
      "text/plain": [
       "   current_price_list     brand  \\\n",
       "0              254.99  GIGABYTE   \n",
       "1              259.99       XFX   \n",
       "2              609.99      EVGA   \n",
       "3              219.99       MSI   \n",
       "4                          ASUS   \n",
       "5              154.99  GIGABYTE   \n",
       "6              399.99      EVGA   \n",
       "7              224.99     ZOTAC   \n",
       "8              241.99       XFX   \n",
       "9              179.99       MSI   \n",
       "10             192.99      ASUS   \n",
       "11             379.99     ZOTAC   \n",
       "\n",
       "                                                title  \n",
       "0   GIGABYTE GeForce GTX 1060 Windforce OC GV-N106...  \n",
       "1   XFX Radeon GTR RX 480 DirectX 12 RX-480P8DBA6 ...  \n",
       "2   EVGA GeForce GTX 1080 FTW GAMING ACX 3.0, 08G-...  \n",
       "3   MSI Radeon RX 480 DirectX 12 RX 480 ARMOR 8G O...  \n",
       "4   ASUS GeForce GTX 1060 3GB Dual-fan OC Edition ...  \n",
       "5   GIGABYTE GeForce GTX 1050 Ti DirectX 12 GV-N10...  \n",
       "6   EVGA GeForce GTX 1070 SC GAMING ACX 3.0, 08G-P...  \n",
       "7   ZOTAC GeForce GTX 1060 Mini, ZT-P10600A-10L, 6...  \n",
       "8   XFX Radeon RS RX 480 DirectX 12 RX-480P836BM 8...  \n",
       "9   MSI Radeon RX 470 DirectX 12 RX 470 GAMING X 4...  \n",
       "10  ASUS Dual-fan Radeon RX 480 4GB OC Edition AMD...  \n",
       "11  ZOTAC GeForce GTX 1070 Mini, ZT-P10700G-10M, 8...  "
      ]
     },
     "execution_count": 154,
     "metadata": {},
     "output_type": "execute_result"
    }
   ],
   "source": [
    "df = pd.DataFrame.from_dict(data, orient=\"index\")\n",
    "df = df.T\n",
    "df"
   ]
  },
  {
   "cell_type": "code",
   "execution_count": null,
   "metadata": {
    "collapsed": true
   },
   "outputs": [],
   "source": []
  },
  {
   "cell_type": "code",
   "execution_count": null,
   "metadata": {
    "collapsed": true
   },
   "outputs": [],
   "source": []
  },
  {
   "cell_type": "code",
   "execution_count": null,
   "metadata": {
    "collapsed": true
   },
   "outputs": [],
   "source": []
  },
  {
   "cell_type": "code",
   "execution_count": null,
   "metadata": {
    "collapsed": true
   },
   "outputs": [],
   "source": []
  },
  {
   "cell_type": "code",
   "execution_count": null,
   "metadata": {
    "collapsed": true
   },
   "outputs": [],
   "source": []
  }
 ],
 "metadata": {
  "anaconda-cloud": {},
  "kernelspec": {
   "display_name": "Python [default]",
   "language": "python",
   "name": "python3"
  },
  "language_info": {
   "codemirror_mode": {
    "name": "ipython",
    "version": 3
   },
   "file_extension": ".py",
   "mimetype": "text/x-python",
   "name": "python",
   "nbconvert_exporter": "python",
   "pygments_lexer": "ipython3",
   "version": "3.5.2"
  }
 },
 "nbformat": 4,
 "nbformat_minor": 1
}
