{
 "cells": [
  {
   "cell_type": "code",
   "execution_count": 1,
   "metadata": {
    "collapsed": true
   },
   "outputs": [],
   "source": [
    "import bs4 as bs\n",
    "from urllib.request import urlopen as uReq\n",
    "from bs4 import BeautifulSoup as soup\n",
    "import pandas as pd\n",
    "import re"
   ]
  },
  {
   "cell_type": "code",
   "execution_count": 2,
   "metadata": {
    "collapsed": true
   },
   "outputs": [],
   "source": [
    "\n",
    "myUrl= 'https://www.humblebundle.com/pc-lovers-software-bundle'\n",
    "\n",
    "uClient = uReq(myUrl)\n",
    "\n",
    "page_html = uClient.read()\n",
    "\n",
    "uClient.close()"
   ]
  },
  {
   "cell_type": "code",
   "execution_count": 3,
   "metadata": {
    "collapsed": true
   },
   "outputs": [],
   "source": [
    "page_soup = soup(page_html,\"html.parser\")"
   ]
  },
  {
   "cell_type": "code",
   "execution_count": 6,
   "metadata": {
    "collapsed": false
   },
   "outputs": [
    {
     "data": {
      "text/plain": [
       "<title>Humble Software Bundle for PC Lovers (pay what you want and help charity)</title>"
      ]
     },
     "execution_count": 6,
     "metadata": {},
     "output_type": "execute_result"
    }
   ],
   "source": [
    "page_soup.title"
   ]
  },
  {
   "cell_type": "markdown",
   "metadata": {},
   "source": [
    "## Traversing Elements "
   ]
  },
  {
   "cell_type": "code",
   "execution_count": 9,
   "metadata": {
    "collapsed": false
   },
   "outputs": [],
   "source": [
    "game_containers = page_soup.find_all('div',{'class':'main-content-row dd-game-row js-nav-row'})\n"
   ]
  },
  {
   "cell_type": "code",
   "execution_count": 16,
   "metadata": {
    "collapsed": false,
    "scrolled": true
   },
   "outputs": [
    {
     "data": {
      "text/plain": [
       "<div class=\"main-content-row dd-game-row js-nav-row\">\n",
       "<div class=\"u-constrain-width\">\n",
       "<div class=\"dd-header\">\n",
       "<h2 class=\"dd-header-headline s-fixed\">\n",
       "    Pay what you want!\n",
       "  </h2>\n",
       "<h3 class=\"dd-header-subheader s-fixed\">\n",
       "</h3>\n",
       "</div>\n",
       "<div class=\"dd-image-box-list\">\n",
       "<div class=\"dd-image-box game-boxes hoverable desktop\" data-slideout=\"systemmechanic165\">\n",
       "<div class=\"dd-image-box-figure u-lazy-load\">\n",
       "<div class=\"dd-image-box-badge-holder u-hide-onerror\">\n",
       "</div>\n",
       "<div class=\"dd-image-holder\">\n",
       "<img class=\"dd-image-box-figure-img\" data-retina-src=\"https://humblebundle.imgix.net/misc/files/hashed/4e6dbda9ab731e948eb8256c384d15d7b1b6e61a.png?auto=format&amp;dpr=2&amp;fit=clip&amp;h=240&amp;lossless=1&amp;w=180&amp;ixlib=python-0.2.0&amp;s=b9094461768d5342c28830c9c2000966\" data-src=\"https://humblebundle.imgix.net/misc/files/hashed/4e6dbda9ab731e948eb8256c384d15d7b1b6e61a.png?auto=format&amp;fit=clip&amp;h=240&amp;lossless=1&amp;w=180&amp;ixlib=python-0.2.0&amp;s=ff30618c5df363ed367717ed6e8e6cf9\">\n",
       "</img></div>\n",
       "<span class=\"hover-black-overlay u-hide-onerror\"></span>\n",
       "<div class=\"hover-icon-holder u-hide-onerror\">\n",
       "<i class=\"hb hb-search hover-icon u-center\"></i>\n",
       "</div>\n",
       "<div class=\"dd-gradient-overlay u-hide-onerror\"></div>\n",
       "</div>\n",
       "<div class=\"dd-image-box-caption-container\">\n",
       "<div class=\"dd-captions s-no-platform-icons\">\n",
       "<div class=\"dd-image-box-caption\">\n",
       "  System Mechanic 16.5\n",
       "      </div>\n",
       "<div class=\"dd-callout subtitle\">1 year license for new customers only<br/><p class=\"callout-msrp\">MSRP: $49.95</p></div>\n",
       "</div>\n",
       "</div>\n",
       "</div>\n",
       "<div class=\"dd-image-box game-boxes hoverable desktop\" data-slideout=\"airparrot2pack\">\n",
       "<div class=\"dd-image-box-figure u-lazy-load\">\n",
       "<div class=\"dd-image-box-badge-holder u-hide-onerror\">\n",
       "</div>\n",
       "<div class=\"dd-image-holder\">\n",
       "<img class=\"dd-image-box-figure-img\" data-retina-src=\"https://humblebundle.imgix.net/misc/files/hashed/f5482dd5b772616ee7adbaf110633b8b20f15802.png?auto=format&amp;dpr=2&amp;fit=clip&amp;h=240&amp;lossless=1&amp;w=180&amp;ixlib=python-0.2.0&amp;s=c2800c80bcf7fbc1f1256105c93099b8\" data-src=\"https://humblebundle.imgix.net/misc/files/hashed/f5482dd5b772616ee7adbaf110633b8b20f15802.png?auto=format&amp;fit=clip&amp;h=240&amp;lossless=1&amp;w=180&amp;ixlib=python-0.2.0&amp;s=8df439c42f5ba5b879897d65e7be2701\">\n",
       "</img></div>\n",
       "<span class=\"hover-black-overlay u-hide-onerror\"></span>\n",
       "<div class=\"hover-icon-holder u-hide-onerror\">\n",
       "<i class=\"hb hb-search hover-icon u-center\"></i>\n",
       "</div>\n",
       "<div class=\"dd-gradient-overlay u-hide-onerror\"></div>\n",
       "</div>\n",
       "<div class=\"dd-image-box-caption-container\">\n",
       "<div class=\"dd-captions s-no-platform-icons\">\n",
       "<div class=\"dd-image-box-caption\">\n",
       "  AirParrot 2 (two-pack)\n",
       "      </div>\n",
       "<div class=\"dd-callout subtitle\">Lifetime licenses, redeemable twice<br/><p class=\"callout-msrp\">MSRP: $12.99</p></div>\n",
       "</div>\n",
       "</div>\n",
       "</div>\n",
       "<div class=\"dd-image-box game-boxes hoverable desktop\" data-slideout=\"easeuspartitionmasterpro119\">\n",
       "<div class=\"dd-image-box-figure u-lazy-load\">\n",
       "<div class=\"dd-image-box-badge-holder u-hide-onerror\">\n",
       "</div>\n",
       "<div class=\"dd-image-holder\">\n",
       "<img class=\"dd-image-box-figure-img\" data-retina-src=\"https://humblebundle.imgix.net/misc/files/hashed/27225b1031f7f0f1769df089d6102f0cb2dc803f.png?auto=format&amp;dpr=2&amp;fit=clip&amp;h=240&amp;lossless=1&amp;w=180&amp;ixlib=python-0.2.0&amp;s=0d560ef3356f2b55a7e8a969ab270323\" data-src=\"https://humblebundle.imgix.net/misc/files/hashed/27225b1031f7f0f1769df089d6102f0cb2dc803f.png?auto=format&amp;fit=clip&amp;h=240&amp;lossless=1&amp;w=180&amp;ixlib=python-0.2.0&amp;s=45bc6953c32f328bb7985c30d7269374\">\n",
       "</img></div>\n",
       "<span class=\"hover-black-overlay u-hide-onerror\"></span>\n",
       "<div class=\"hover-icon-holder u-hide-onerror\">\n",
       "<i class=\"hb hb-search hover-icon u-center\"></i>\n",
       "</div>\n",
       "<div class=\"dd-gradient-overlay u-hide-onerror\"></div>\n",
       "</div>\n",
       "<div class=\"dd-image-box-caption-container\">\n",
       "<div class=\"dd-captions s-no-platform-icons\">\n",
       "<div class=\"dd-image-box-caption\">\n",
       "  EaseUS Partition Master Pro 11.9\n",
       "      </div>\n",
       "<div class=\"dd-callout subtitle\"><p class=\"callout-msrp\">MSRP: $39.95</p></div>\n",
       "</div>\n",
       "</div>\n",
       "</div>\n",
       "</div>\n",
       "</div>\n",
       "</div>"
      ]
     },
     "execution_count": 16,
     "metadata": {},
     "output_type": "execute_result"
    }
   ],
   "source": [
    "game_cat_free = game_containers[0]\n",
    "game_cat_free"
   ]
  },
  {
   "cell_type": "code",
   "execution_count": 33,
   "metadata": {
    "collapsed": false
   },
   "outputs": [
    {
     "data": {
      "text/plain": [
       "'Pay what you want!'"
      ]
     },
     "execution_count": 33,
     "metadata": {},
     "output_type": "execute_result"
    }
   ],
   "source": [
    "game_category= game_cat_free.h2.text.strip()\n",
    "game_category"
   ]
  },
  {
   "cell_type": "code",
   "execution_count": 96,
   "metadata": {
    "collapsed": true
   },
   "outputs": [],
   "source": [
    "game_titlez=[]\n",
    "game_msrpz=[]\n",
    "game_subtitlez=[]"
   ]
  },
  {
   "cell_type": "code",
   "execution_count": 101,
   "metadata": {
    "collapsed": false
   },
   "outputs": [],
   "source": [
    "game_titles = game_cat_free.findAll('div',{'class':'dd-image-box-caption'})\n",
    "for title in game_titles:\n",
    "    game_titlez.append(title.text.strip())\n",
    "game_subtitles = game_cat_free.findAll('div',{'class':\"dd-callout subtitle\"})\n",
    "for subs in game_subtitles:\n",
    "    game_subtitlez.append(subs.text.strip().split(\"MSRP\")[0])\n",
    "game_msrps = game_cat_free.findAll('p',{'class':\"callout-msrp\"})\n",
    "for msrp in game_msrps: \n",
    "    msrp = re.findall('\\d+.\\d+',msrp.text.split(\" \")[1])\n",
    "    if len(msrp)>0:\n",
    "        game_msrpz.append(msrp[0])\n",
    "    else:\n",
    "        game_msrpz.append(\"\")\n"
   ]
  },
  {
   "cell_type": "code",
   "execution_count": 104,
   "metadata": {
    "collapsed": false
   },
   "outputs": [
    {
     "name": "stdout",
     "output_type": "stream",
     "text": [
      "6\n",
      "6\n",
      "6\n"
     ]
    }
   ],
   "source": [
    "print(len(game_titlez))\n",
    "print(len(game_msrpz))\n",
    "print(len(game_subtitlez))"
   ]
  },
  {
   "cell_type": "code",
   "execution_count": 127,
   "metadata": {
    "collapsed": true
   },
   "outputs": [],
   "source": [
    "game_dictionary ={}"
   ]
  },
  {
   "cell_type": "code",
   "execution_count": 110,
   "metadata": {
    "collapsed": false
   },
   "outputs": [
    {
     "data": {
      "text/plain": [
       "3"
      ]
     },
     "execution_count": 110,
     "metadata": {},
     "output_type": "execute_result"
    }
   ],
   "source": [
    "len(game_containers)"
   ]
  },
  {
   "cell_type": "code",
   "execution_count": 128,
   "metadata": {
    "collapsed": false
   },
   "outputs": [],
   "source": [
    "i=0\n",
    "while(i<len(game_containers)):\n",
    "    gameContainerName = game_containers[i]\n",
    "    game_category= gameContainerName.h2.text.strip()\n",
    "    games_in_container =[]\n",
    "    game_titlez=[]\n",
    "    game_msrpz=[]\n",
    "    game_subtitlez=[]\n",
    "    game_titles = gameContainerName.findAll('div',{'class':'dd-image-box-caption'})\n",
    "    for title in game_titles:\n",
    "        game_titlez.append(title.text.strip())\n",
    "    game_subtitles = gameContainerName.findAll('div',{'class':\"dd-callout subtitle\"})\n",
    "    for subs in game_subtitles:\n",
    "        game_subtitlez.append(subs.text.strip().split(\"MSRP\")[0])\n",
    "    game_msrps = gameContainerName.findAll('p',{'class':\"callout-msrp\"})\n",
    "    for msrp in game_msrps: \n",
    "        msrp = re.findall('\\d+.\\d+',msrp.text.split(\" \")[1])\n",
    "        if len(msrp)>0:\n",
    "            game_msrpz.append(msrp[0])\n",
    "        else:\n",
    "            game_msrpz.append(\"\")\n",
    "    \n",
    "    gameIndex=0\n",
    "    while(gameIndex<len(game_titlez)):\n",
    "        game = [game_titlez[gameIndex],game_subtitlez[gameIndex],game_msrpz[gameIndex]]\n",
    "        games_in_container.append(game)\n",
    "#         games_in_container[game_titlez[gameIndex]].update({game})\n",
    "        gameIndex+=1\n",
    "    \n",
    "    game_dictionary[game_category] = games_in_container\n",
    "    \n",
    "    i+=1\n",
    "\n",
    "\n",
    "\n",
    "    "
   ]
  },
  {
   "cell_type": "code",
   "execution_count": 136,
   "metadata": {
    "collapsed": false
   },
   "outputs": [
    {
     "data": {
      "text/plain": [
       "{'Pay $12 or more to also unlock!': [['PCMark 8 Advanced Edition',\n",
       "   '',\n",
       "   '49.99'],\n",
       "  ['VRMark Advanced Edition', '', '19.99'],\n",
       "  ['Dashlane Premium', '1 year, new users only\\n', '39.99']],\n",
       " 'Pay more than the average of $6.22 to also unlock!': [['DAEMON Tools Pro 8 Lifetime',\n",
       "   'Lifetime licenses for up to 3 PCs\\n',\n",
       "   '59.99'],\n",
       "  ['Backblaze Online Backup',\n",
       "   '6 months of unlimited backup, for new users only\\n',\n",
       "   '30.00'],\n",
       "  ['3DMark Advanced Edition', '', '29.99']],\n",
       " 'Pay what you want!': [['System Mechanic 16.5',\n",
       "   '1 year license for new customers only',\n",
       "   '49.95'],\n",
       "  ['AirParrot 2 (two-pack)', 'Lifetime licenses, redeemable twice', '12.99'],\n",
       "  ['EaseUS Partition Master Pro 11.9', '', '39.95']]}"
      ]
     },
     "execution_count": 136,
     "metadata": {},
     "output_type": "execute_result"
    }
   ],
   "source": [
    "game_dictionary"
   ]
  },
  {
   "cell_type": "code",
   "execution_count": 137,
   "metadata": {
    "collapsed": false
   },
   "outputs": [
    {
     "data": {
      "text/html": [
       "<div>\n",
       "<table border=\"1\" class=\"dataframe\">\n",
       "  <thead>\n",
       "    <tr style=\"text-align: right;\">\n",
       "      <th></th>\n",
       "      <th>Pay what you want!</th>\n",
       "      <th>Pay more than the average of $6.22 to also unlock!</th>\n",
       "      <th>Pay $12 or more to also unlock!</th>\n",
       "    </tr>\n",
       "  </thead>\n",
       "  <tbody>\n",
       "    <tr>\n",
       "      <th>0</th>\n",
       "      <td>[System Mechanic 16.5, 1 year license for new ...</td>\n",
       "      <td>[DAEMON Tools Pro 8 Lifetime, Lifetime license...</td>\n",
       "      <td>[PCMark 8 Advanced Edition, , 49.99]</td>\n",
       "    </tr>\n",
       "    <tr>\n",
       "      <th>1</th>\n",
       "      <td>[AirParrot 2 (two-pack), Lifetime licenses, re...</td>\n",
       "      <td>[Backblaze Online Backup, 6 months of unlimite...</td>\n",
       "      <td>[VRMark Advanced Edition, , 19.99]</td>\n",
       "    </tr>\n",
       "    <tr>\n",
       "      <th>2</th>\n",
       "      <td>[EaseUS Partition Master Pro 11.9, , 39.95]</td>\n",
       "      <td>[3DMark Advanced Edition, , 29.99]</td>\n",
       "      <td>[Dashlane Premium, 1 year, new users only\\n, 3...</td>\n",
       "    </tr>\n",
       "  </tbody>\n",
       "</table>\n",
       "</div>"
      ],
      "text/plain": [
       "                                  Pay what you want!  \\\n",
       "0  [System Mechanic 16.5, 1 year license for new ...   \n",
       "1  [AirParrot 2 (two-pack), Lifetime licenses, re...   \n",
       "2        [EaseUS Partition Master Pro 11.9, , 39.95]   \n",
       "\n",
       "  Pay more than the average of $6.22 to also unlock!  \\\n",
       "0  [DAEMON Tools Pro 8 Lifetime, Lifetime license...   \n",
       "1  [Backblaze Online Backup, 6 months of unlimite...   \n",
       "2                 [3DMark Advanced Edition, , 29.99]   \n",
       "\n",
       "                     Pay $12 or more to also unlock!  \n",
       "0               [PCMark 8 Advanced Edition, , 49.99]  \n",
       "1                 [VRMark Advanced Edition, , 19.99]  \n",
       "2  [Dashlane Premium, 1 year, new users only\\n, 3...  "
      ]
     },
     "execution_count": 137,
     "metadata": {},
     "output_type": "execute_result"
    }
   ],
   "source": [
    "df = pd.DataFrame.from_dict(game_dictionary, orient=\"index\")\n",
    "df = df.T\n",
    "df"
   ]
  },
  {
   "cell_type": "code",
   "execution_count": 139,
   "metadata": {
    "collapsed": true
   },
   "outputs": [],
   "source": [
    "df.to_csv(\"Humble_Bundle_PC_Softwares.csv\")"
   ]
  }
 ],
 "metadata": {
  "anaconda-cloud": {},
  "kernelspec": {
   "display_name": "Python [conda root]",
   "language": "python",
   "name": "conda-root-py"
  },
  "language_info": {
   "codemirror_mode": {
    "name": "ipython",
    "version": 3
   },
   "file_extension": ".py",
   "mimetype": "text/x-python",
   "name": "python",
   "nbconvert_exporter": "python",
   "pygments_lexer": "ipython3",
   "version": "3.5.2"
  }
 },
 "nbformat": 4,
 "nbformat_minor": 1
}
