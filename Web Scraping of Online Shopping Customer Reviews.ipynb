{
 "cells": [
  {
   "cell_type": "markdown",
   "metadata": {},
   "source": [
    "# External Data: Web Crawling and Web Scraping Customer Reviews"
   ]
  },
  {
   "cell_type": "markdown",
   "metadata": {},
   "source": [
    "This will be used to web crawl and web scrap Lazada and competitors websites for reviews from https://www.sitejabber.com/reviews/www.lazada.com.ph#reviews.\n",
    "To see if we can play around as external data\n",
    "\n",
    "The goals:\n",
    "1. To capture reviews and product ratings of different competitors (Lazada, Qoo10, and Rokuten) from a page\n",
    "2. To crawl and retrieve multiple page sources\n",
    "3. to compare and review critical comments on users within the reviews\n",
    "       What makes the reviews good (fast delivery time)?\n",
    "       What makes the reviews bad (unreliable websites/ complicated)?"
   ]
  },
  {
   "cell_type": "markdown",
   "metadata": {},
   "source": [
    "# Importing the necessary libraries"
   ]
  },
  {
   "cell_type": "code",
   "execution_count": 1,
   "metadata": {
    "collapsed": false
   },
   "outputs": [
    {
     "ename": "ImportError",
     "evalue": "No module named 'PyQt4'",
     "output_type": "error",
     "traceback": [
      "\u001b[0;31m---------------------------------------------------------------------------\u001b[0m",
      "\u001b[0;31mImportError\u001b[0m                               Traceback (most recent call last)",
      "\u001b[0;32m<ipython-input-1-a88b7d1582ca>\u001b[0m in \u001b[0;36m<module>\u001b[0;34m()\u001b[0m\n\u001b[1;32m      1\u001b[0m \u001b[1;32mimport\u001b[0m \u001b[0mpandas\u001b[0m \u001b[1;32mas\u001b[0m \u001b[0mpd\u001b[0m\u001b[1;33m\u001b[0m\u001b[0m\n\u001b[1;32m      2\u001b[0m \u001b[1;32mimport\u001b[0m \u001b[0msys\u001b[0m\u001b[1;33m\u001b[0m\u001b[0m\n\u001b[0;32m----> 3\u001b[0;31m \u001b[1;32mfrom\u001b[0m \u001b[0mPyQt4\u001b[0m\u001b[1;33m.\u001b[0m\u001b[0mQtGui\u001b[0m \u001b[1;32mimport\u001b[0m \u001b[0mQApplication\u001b[0m\u001b[1;33m\u001b[0m\u001b[0m\n\u001b[0m\u001b[1;32m      4\u001b[0m \u001b[1;32mfrom\u001b[0m \u001b[0mPyQt4\u001b[0m\u001b[1;33m.\u001b[0m\u001b[0mQtCore\u001b[0m \u001b[1;32mimport\u001b[0m \u001b[0mQUrl\u001b[0m\u001b[1;33m\u001b[0m\u001b[0m\n\u001b[1;32m      5\u001b[0m \u001b[1;32mfrom\u001b[0m \u001b[0mPyQt4\u001b[0m\u001b[1;33m.\u001b[0m\u001b[0mQtWebKit\u001b[0m \u001b[1;32mimport\u001b[0m \u001b[0mQWebPage\u001b[0m\u001b[1;33m\u001b[0m\u001b[0m\n",
      "\u001b[0;31mImportError\u001b[0m: No module named 'PyQt4'"
     ]
    }
   ],
   "source": [
    "import pandas as pd\n",
    "import sys\n",
    "from PyQt4.QtGui import QApplication\n",
    "from PyQt4.QtCore import QUrl\n",
    "from PyQt4.QtWebKit import QWebPage\n",
    "import bs4 as bs\n",
    "import urllib\n",
    "import re"
   ]
  },
  {
   "cell_type": "markdown",
   "metadata": {},
   "source": [
    "# Initiating ClassClient to generate Javascript Commands (Optional)\n",
    "If Javascript needs to be initiated first"
   ]
  },
  {
   "cell_type": "code",
   "execution_count": 3,
   "metadata": {
    "collapsed": false
   },
   "outputs": [],
   "source": [
    "class Client(QWebPage):\n",
    "\n",
    "    def __init__(self, url):\n",
    "        self.app = QApplication(sys.argv)\n",
    "        QWebPage.__init__(self)\n",
    "        self.loadFinished.connect(self.on_page_load)\n",
    "        self.mainFrame().load(QUrl(url))\n",
    "        self.app.exec_()\n",
    "        \n",
    "    def on_page_load(self):\n",
    "        self.app.quit()\n"
   ]
  },
  {
   "cell_type": "markdown",
   "metadata": {},
   "source": [
    "## Soup Scraping"
   ]
  },
  {
   "cell_type": "code",
   "execution_count": 2,
   "metadata": {
    "collapsed": false
   },
   "outputs": [
    {
     "ename": "ImportError",
     "evalue": "No module named dryscrape",
     "output_type": "error",
     "traceback": [
      "\u001b[1;31m---------------------------------------------------------------------------\u001b[0m",
      "\u001b[1;31mImportError\u001b[0m                               Traceback (most recent call last)",
      "\u001b[1;32m<ipython-input-2-cd6b4700ff38>\u001b[0m in \u001b[0;36m<module>\u001b[1;34m()\u001b[0m\n\u001b[1;32m----> 1\u001b[1;33m \u001b[1;32mimport\u001b[0m \u001b[0mdryscrape\u001b[0m\u001b[1;33m\u001b[0m\u001b[0m\n\u001b[0m\u001b[0;32m      2\u001b[0m \u001b[1;33m\u001b[0m\u001b[0m\n\u001b[0;32m      3\u001b[0m \u001b[0msess\u001b[0m \u001b[1;33m=\u001b[0m \u001b[0mdryscrape\u001b[0m\u001b[1;33m.\u001b[0m\u001b[0mSession\u001b[0m\u001b[1;33m(\u001b[0m\u001b[1;33m)\u001b[0m\u001b[1;33m\u001b[0m\u001b[0m\n\u001b[0;32m      4\u001b[0m \u001b[0msess\u001b[0m\u001b[1;33m.\u001b[0m\u001b[0mvisit\u001b[0m\u001b[1;33m(\u001b[0m\u001b[1;34m'https://pythonprogramming.net/parsememcparseface/'\u001b[0m\u001b[1;33m)\u001b[0m\u001b[1;33m\u001b[0m\u001b[0m\n\u001b[0;32m      5\u001b[0m \u001b[0msource\u001b[0m \u001b[1;33m=\u001b[0m \u001b[0msess\u001b[0m\u001b[1;33m.\u001b[0m\u001b[0mbody\u001b[0m\u001b[1;33m(\u001b[0m\u001b[1;33m)\u001b[0m\u001b[1;33m\u001b[0m\u001b[0m\n",
      "\u001b[1;31mImportError\u001b[0m: No module named dryscrape"
     ]
    }
   ],
   "source": [
    "import dryscrape\n",
    "\n",
    "sess = dryscrape.Session()\n",
    "sess.visit('https://pythonprogramming.net/parsememcparseface/')\n",
    "source = sess.body()\n"
   ]
  },
  {
   "cell_type": "code",
   "execution_count": 4,
   "metadata": {
    "collapsed": false
   },
   "outputs": [],
   "source": [
    "# Initialize soup from this website\n",
    "# If this does not work then try again later as there might be some connection error to the website\n",
    "\n",
    "# This is if you need to scrape using client\n",
    "# url = 'https://www.sitejabber.com/reviews/www.lazada.com.ph?page=2#reviews'\n",
    "# client_response = Client(url)\n",
    "# source = str(client_response.mainFrame().toHtml().toUtf8())\n",
    "# source\n",
    "\n",
    "\n",
    "sauce = urllib.urlopen('https://www.sitejabber.com/reviews/www.lazada.com.ph?page=2#reviews').read()"
   ]
  },
  {
   "cell_type": "code",
   "execution_count": 5,
   "metadata": {
    "collapsed": false
   },
   "outputs": [],
   "source": [
    "soup = bs.BeautifulSoup(sauce,'lxml')"
   ]
  },
  {
   "cell_type": "code",
   "execution_count": 6,
   "metadata": {
    "collapsed": false
   },
   "outputs": [],
   "source": [
    "title = []\n",
    "star_rating = []\n",
    "text = []\n",
    "date = []\n",
    "\n",
    "for review in soup.find_all('div', {\"class\": \"review\"}):\n",
    "    title.append(review.div.a.text)\n",
    "    star_rating.append(review.find('div',{\"class\": \"star_rating\"}).get('title')[0])\n",
    "    text.append(review.p.text)\n",
    "    date.append(pd.to_datetime(review.meta.get('content')))\n"
   ]
  },
  {
   "cell_type": "code",
   "execution_count": 7,
   "metadata": {
    "collapsed": false
   },
   "outputs": [
    {
     "data": {
      "text/html": [
       "<div>\n",
       "<table border=\"1\" class=\"dataframe\">\n",
       "  <thead>\n",
       "    <tr style=\"text-align: right;\">\n",
       "      <th></th>\n",
       "      <th>date</th>\n",
       "      <th>rating</th>\n",
       "      <th>text</th>\n",
       "      <th>title</th>\n",
       "    </tr>\n",
       "  </thead>\n",
       "  <tbody>\n",
       "    <tr>\n",
       "      <th>0</th>\n",
       "      <td>2016-12-18</td>\n",
       "      <td>2</td>\n",
       "      <td>it says item was out of stock so i placed anot...</td>\n",
       "      <td>“CANCEL ORDER# 322915979”</td>\n",
       "    </tr>\n",
       "    <tr>\n",
       "      <th>1</th>\n",
       "      <td>2016-12-18</td>\n",
       "      <td>1</td>\n",
       "      <td>LAZADA. I ordered item with order number 39899...</td>\n",
       "      <td>“I WANT REFUND!”</td>\n",
       "    </tr>\n",
       "    <tr>\n",
       "      <th>2</th>\n",
       "      <td>2016-12-18</td>\n",
       "      <td>1</td>\n",
       "      <td>Hello lazada philippines, i ordered for an ite...</td>\n",
       "      <td>“PLEASE  CANCEL MY ORDER RIGHT AWAY”</td>\n",
       "    </tr>\n",
       "    <tr>\n",
       "      <th>3</th>\n",
       "      <td>2016-12-18</td>\n",
       "      <td>1</td>\n",
       "      <td>hanggang ngayon diko parin narereceive yung re...</td>\n",
       "      <td>“Defective item, very poor packaging and poor ...</td>\n",
       "    </tr>\n",
       "    <tr>\n",
       "      <th>4</th>\n",
       "      <td>2016-12-18</td>\n",
       "      <td>1</td>\n",
       "      <td>I received a shoe cabinet with missing parts l...</td>\n",
       "      <td>“Taking so long to pull-out incomplete item de...</td>\n",
       "    </tr>\n",
       "  </tbody>\n",
       "</table>\n",
       "</div>"
      ],
      "text/plain": [
       "        date rating                                               text  \\\n",
       "0 2016-12-18      2  it says item was out of stock so i placed anot...   \n",
       "1 2016-12-18      1  LAZADA. I ordered item with order number 39899...   \n",
       "2 2016-12-18      1  Hello lazada philippines, i ordered for an ite...   \n",
       "3 2016-12-18      1  hanggang ngayon diko parin narereceive yung re...   \n",
       "4 2016-12-18      1  I received a shoe cabinet with missing parts l...   \n",
       "\n",
       "                                               title  \n",
       "0                          “CANCEL ORDER# 322915979”  \n",
       "1                                   “I WANT REFUND!”  \n",
       "2               “PLEASE  CANCEL MY ORDER RIGHT AWAY”  \n",
       "3  “Defective item, very poor packaging and poor ...  \n",
       "4  “Taking so long to pull-out incomplete item de...  "
      ]
     },
     "execution_count": 7,
     "metadata": {},
     "output_type": "execute_result"
    }
   ],
   "source": [
    "df = pd.DataFrame({'title':title,'rating':star_rating,'text':text,'date':date})\n",
    "df.head()"
   ]
  },
  {
   "cell_type": "markdown",
   "metadata": {},
   "source": [
    "## Repeat the scraping for multiple websites"
   ]
  },
  {
   "cell_type": "code",
   "execution_count": 8,
   "metadata": {
    "collapsed": false
   },
   "outputs": [],
   "source": [
    "# Initialize soup from this website\n",
    "# If this does not work then try again later as there might be some connection error to the website\n",
    "\n",
    "# Adding in url\n",
    "start_urls=[]\n",
    "for i in xrange(1,3):\n",
    "    start_urls.append(\"https://www.sitejabber.com/reviews/www.lazada.com.ph?page=\"+str(i)+\"#reviews\")\n",
    "    start_urls.append(\"https://www.sitejabber.com/reviews/www.qoo10.com?page=\"+str(i)+\"#reviews\")\n",
    "    start_urls.append(\"https://www.sitejabber.com/reviews/www.rakuten.com?page=\"+str(i)+\"#reviews\")\n",
    "\n",
    "title = []\n",
    "star_rating = []\n",
    "text = []\n",
    "date = []\n",
    "site = []                      \n",
    "\n",
    "for url in start_urls:\n",
    "#     print(\"I am at url \",url)\n",
    "    sauce = urllib.urlopen(url).read()\n",
    "    soup = bs.BeautifulSoup(sauce,'lxml')\n",
    "\n",
    "\n",
    "    for review in soup.find_all('div', {\"class\": \"review\"}):\n",
    "        \n",
    "#         Use regex to remove non ascii character then append it to the list\n",
    "        title.append( re.sub(r'[^\\x00-\\x7F]+','', review.div.a.text))\n",
    "        text.append( re.sub(r'[^\\x00-\\x7F]+','', review.p.text))\n",
    "   \n",
    "        star_rating.append(review.find('div',{\"class\": \"star_rating\"}).get('title')[0])     \n",
    "        date.append(pd.to_datetime(review.find('div',{\"class\": \"time tiny_text faded_text\"}).text))\n",
    "\n",
    "#         Site placement for different url\n",
    "        if \"lazada\" in url:\n",
    "            site.append(\"lazada\")\n",
    "        elif \"qoo10\" in url:\n",
    "            site.append(\"qoo10\")\n",
    "        elif \"rakuten\" in url:\n",
    "            site.append(\"rakuten\")\n",
    "        else:\n",
    "            site.append(\"unknown\")"
   ]
  },
  {
   "cell_type": "code",
   "execution_count": 9,
   "metadata": {
    "collapsed": false,
    "scrolled": true
   },
   "outputs": [
    {
     "name": "stdout",
     "output_type": "stream",
     "text": [
      "(117, 5)\n"
     ]
    },
    {
     "data": {
      "text/html": [
       "<div>\n",
       "<table border=\"1\" class=\"dataframe\">\n",
       "  <thead>\n",
       "    <tr style=\"text-align: right;\">\n",
       "      <th></th>\n",
       "      <th>date</th>\n",
       "      <th>rating</th>\n",
       "      <th>site</th>\n",
       "      <th>text</th>\n",
       "      <th>title</th>\n",
       "    </tr>\n",
       "  </thead>\n",
       "  <tbody>\n",
       "    <tr>\n",
       "      <th>0</th>\n",
       "      <td>2016-12-21</td>\n",
       "      <td>1</td>\n",
       "      <td>lazada</td>\n",
       "      <td>so disappointed!!!\\n\\r\\ni have been waiting fo...</td>\n",
       "      <td>refused order</td>\n",
       "    </tr>\n",
       "    <tr>\n",
       "      <th>1</th>\n",
       "      <td>2016-12-21</td>\n",
       "      <td>1</td>\n",
       "      <td>lazada</td>\n",
       "      <td>I've ordered so many times at Lazada, this was...</td>\n",
       "      <td>Delayed delivery, wrong item</td>\n",
       "    </tr>\n",
       "    <tr>\n",
       "      <th>2</th>\n",
       "      <td>2016-12-20</td>\n",
       "      <td>1</td>\n",
       "      <td>lazada</td>\n",
       "      <td>I ordered toy for this coming christmas for my...</td>\n",
       "      <td>WASTE OF TIME</td>\n",
       "    </tr>\n",
       "    <tr>\n",
       "      <th>3</th>\n",
       "      <td>2016-12-20</td>\n",
       "      <td>1</td>\n",
       "      <td>lazada</td>\n",
       "      <td>I ordered many times dito sa lazaba but ngayon...</td>\n",
       "      <td>Cancelled order delivered and received by my mom</td>\n",
       "    </tr>\n",
       "    <tr>\n",
       "      <th>4</th>\n",
       "      <td>2016-12-20</td>\n",
       "      <td>1</td>\n",
       "      <td>lazada</td>\n",
       "      <td>I already bought a lot from this site, but for...</td>\n",
       "      <td>Betrayal of trust, Fooling customers.</td>\n",
       "    </tr>\n",
       "  </tbody>\n",
       "</table>\n",
       "</div>"
      ],
      "text/plain": [
       "        date rating    site  \\\n",
       "0 2016-12-21      1  lazada   \n",
       "1 2016-12-21      1  lazada   \n",
       "2 2016-12-20      1  lazada   \n",
       "3 2016-12-20      1  lazada   \n",
       "4 2016-12-20      1  lazada   \n",
       "\n",
       "                                                text  \\\n",
       "0  so disappointed!!!\\n\\r\\ni have been waiting fo...   \n",
       "1  I've ordered so many times at Lazada, this was...   \n",
       "2  I ordered toy for this coming christmas for my...   \n",
       "3  I ordered many times dito sa lazaba but ngayon...   \n",
       "4  I already bought a lot from this site, but for...   \n",
       "\n",
       "                                              title  \n",
       "0                                     refused order  \n",
       "1                      Delayed delivery, wrong item  \n",
       "2                                     WASTE OF TIME  \n",
       "3  Cancelled order delivered and received by my mom  \n",
       "4             Betrayal of trust, Fooling customers.  "
      ]
     },
     "execution_count": 9,
     "metadata": {},
     "output_type": "execute_result"
    }
   ],
   "source": [
    "df = pd.DataFrame({'title':title,'rating':star_rating,'text':text,'date':date,'site':site})\n",
    "print(df.shape)\n",
    "df.head()"
   ]
  },
  {
   "cell_type": "code",
   "execution_count": 234,
   "metadata": {
    "collapsed": false,
    "scrolled": true
   },
   "outputs": [],
   "source": [
    "# Importing it to csv\n",
    "df.to_csv('../Data/ecommercereview.csv')"
   ]
  },
  {
   "cell_type": "markdown",
   "metadata": {},
   "source": [
    "# Text Analysis of Competitors and Markets\n",
    "1. What are the rating spreads of each competitor and market\n",
    "2. What are the common dissatisfactions\n",
    "3. What are the common satisfactions\n",
    "\n",
    "### Limitation\n",
    "1. Number of data is purely limited at one blog (as of now)\n"
   ]
  },
  {
   "cell_type": "code",
   "execution_count": 235,
   "metadata": {
    "collapsed": false,
    "scrolled": true
   },
   "outputs": [
    {
     "data": {
      "text/plain": [
       "<matplotlib.axes._subplots.AxesSubplot at 0x118b0588>"
      ]
     },
     "execution_count": 235,
     "metadata": {},
     "output_type": "execute_result"
    },
    {
     "data": {
      "image/png": "[encoded data removed]",
      "text/plain": [
       "<matplotlib.figure.Figure at 0x1131ccc0>"
      ]
     },
     "metadata": {},
     "output_type": "display_data"
    }
   ],
   "source": [
    "# What are the rating spreads of each competitor and market\n",
    "import seaborn as sns\n",
    "%matplotlib inline\n",
    "\n",
    "value_counts = df.groupby('site').rating.value_counts(normalize=True)\n",
    "value_counts.unstack('rating').plot(kind='bar')\n",
    "\n",
    "# To visualize (not sure how to split these into 3 pies based on index)\n",
    "# df.groupby('site').rating.value_counts(normalize=True).plot(kind='pie')"
   ]
  },
  {
   "cell_type": "markdown",
   "metadata": {},
   "source": [
    "# Insights found\n",
    "1. Most of the ratings are given express indications of disatisfaction (rating = 1 or 2)\n",
    "2. Out of the different ratings. Qoo10 has the most disatisfaction.\n",
    "3. Samples are most satisfied in Rakuten"
   ]
  },
  {
   "cell_type": "code",
   "execution_count": 15,
   "metadata": {
    "collapsed": false
   },
   "outputs": [],
   "source": [
    "# Pickling the dataframes\n",
    "df.to_pickle('textreview.pickle')"
   ]
  },
  {
   "cell_type": "markdown",
   "metadata": {},
   "source": [
    "## To be done\n",
    "1. What are the common dissatisfactions\n",
    "2. What are the common satisfactions"
   ]
  },
  {
   "cell_type": "markdown",
   "metadata": {},
   "source": [
    "# Topic extractions\n",
    "\n",
    "This section illustrates how to do approximate topic modeling in Python. We will use a technique called non-negative matrix factorization (NMF) that strongly resembles Latent Dirichlet Allocation (LDA) which we covered in the previous section, Topic modeling with MALLET. [1] Whereas LDA is a probabilistic model capable of expressing uncertainty about the placement of topics across texts and the assignment of words to topics, NMF is a deterministic algorithm which arrives at a single representation of the corpus. For this reason, NMF is often characterized as a machine learning algorithm. Like LDA, NMF arrives at its representation of a corpus in terms of something resembling “latent topics”."
   ]
  },
  {
   "cell_type": "code",
   "execution_count": 4,
   "metadata": {
    "collapsed": false
   },
   "outputs": [
    {
     "data": {
      "text/html": [
       "<div>\n",
       "<table border=\"1\" class=\"dataframe\">\n",
       "  <thead>\n",
       "    <tr style=\"text-align: right;\">\n",
       "      <th></th>\n",
       "      <th>date</th>\n",
       "      <th>rating</th>\n",
       "      <th>site</th>\n",
       "      <th>text</th>\n",
       "      <th>title</th>\n",
       "    </tr>\n",
       "  </thead>\n",
       "  <tbody>\n",
       "    <tr>\n",
       "      <th>0</th>\n",
       "      <td>2016-12-21</td>\n",
       "      <td>1</td>\n",
       "      <td>lazada</td>\n",
       "      <td>so disappointed!!!\\n\\r\\ni have been waiting fo...</td>\n",
       "      <td>refused order</td>\n",
       "    </tr>\n",
       "    <tr>\n",
       "      <th>1</th>\n",
       "      <td>2016-12-21</td>\n",
       "      <td>1</td>\n",
       "      <td>lazada</td>\n",
       "      <td>I've ordered so many times at Lazada, this was...</td>\n",
       "      <td>Delayed delivery, wrong item</td>\n",
       "    </tr>\n",
       "    <tr>\n",
       "      <th>2</th>\n",
       "      <td>2016-12-20</td>\n",
       "      <td>1</td>\n",
       "      <td>lazada</td>\n",
       "      <td>I ordered toy for this coming christmas for my...</td>\n",
       "      <td>WASTE OF TIME</td>\n",
       "    </tr>\n",
       "    <tr>\n",
       "      <th>3</th>\n",
       "      <td>2016-12-20</td>\n",
       "      <td>1</td>\n",
       "      <td>lazada</td>\n",
       "      <td>I ordered many times dito sa lazaba but ngayon...</td>\n",
       "      <td>Cancelled order delivered and received by my mom</td>\n",
       "    </tr>\n",
       "    <tr>\n",
       "      <th>4</th>\n",
       "      <td>2016-12-20</td>\n",
       "      <td>1</td>\n",
       "      <td>lazada</td>\n",
       "      <td>I already bought a lot from this site, but for...</td>\n",
       "      <td>Betrayal of trust, Fooling customers.</td>\n",
       "    </tr>\n",
       "  </tbody>\n",
       "</table>\n",
       "</div>"
      ],
      "text/plain": [
       "        date rating    site  \\\n",
       "0 2016-12-21      1  lazada   \n",
       "1 2016-12-21      1  lazada   \n",
       "2 2016-12-20      1  lazada   \n",
       "3 2016-12-20      1  lazada   \n",
       "4 2016-12-20      1  lazada   \n",
       "\n",
       "                                                text  \\\n",
       "0  so disappointed!!!\\n\\r\\ni have been waiting fo...   \n",
       "1  I've ordered so many times at Lazada, this was...   \n",
       "2  I ordered toy for this coming christmas for my...   \n",
       "3  I ordered many times dito sa lazaba but ngayon...   \n",
       "4  I already bought a lot from this site, but for...   \n",
       "\n",
       "                                              title  \n",
       "0                                     refused order  \n",
       "1                      Delayed delivery, wrong item  \n",
       "2                                     WASTE OF TIME  \n",
       "3  Cancelled order delivered and received by my mom  \n",
       "4             Betrayal of trust, Fooling customers.  "
      ]
     },
     "execution_count": 4,
     "metadata": {},
     "output_type": "execute_result"
    }
   ],
   "source": [
    "# If pickle needs to be read\n",
    "import pandas as pd\n",
    "df = pd.read_pickle('textreview.pickle')\n",
    "df.head()"
   ]
  },
  {
   "cell_type": "code",
   "execution_count": 5,
   "metadata": {
    "collapsed": false
   },
   "outputs": [
    {
     "name": "stdout",
     "output_type": "stream",
     "text": [
      "0    so disappointed!!!\\n\\r\\ni have been waiting fo...\n",
      "1    I've ordered so many times at Lazada, this was...\n",
      "2    I ordered toy for this coming christmas for my...\n",
      "3    I ordered many times dito sa lazaba but ngayon...\n",
      "4    I already bought a lot from this site, but for...\n",
      "Name: text, dtype: object\n"
     ]
    }
   ],
   "source": [
    "import numpy as np\n",
    "from sklearn.feature_extraction.text import CountVectorizer\n",
    "\n",
    "X_train = df.text\n",
    "print(X_train.head())"
   ]
  },
  {
   "cell_type": "code",
   "execution_count": 7,
   "metadata": {
    "collapsed": false
   },
   "outputs": [
    {
     "name": "stdout",
     "output_type": "stream",
     "text": [
      "(117, 1720)\n",
      "1720\n"
     ]
    }
   ],
   "source": [
    "vectorizer = CountVectorizer(stop_words='english')\n",
    "X_train_dtm = vectorizer.fit_transform(X_train)\n",
    "vocab = np.array(vectorizer.get_feature_names())\n",
    "\n",
    "print(X_train_dtm.shape)\n",
    "print(len(vocab))"
   ]
  },
  {
   "cell_type": "markdown",
   "metadata": {},
   "source": [
    "**By analogy with LDA, we will use NMF to get a document-topic matrix (topics here will also be referred to as “components”) and a list of top words for each topic. We will make analogy clear by using the same variable names: doctopic and topic_words**"
   ]
  },
  {
   "cell_type": "code",
   "execution_count": 8,
   "metadata": {
    "collapsed": false
   },
   "outputs": [],
   "source": [
    "from sklearn import decomposition\n",
    "\n",
    "num_topics = 8\n",
    "num_top_words = 8\n",
    "clf = decomposition.NMF(n_components=num_topics, random_state=1)\n",
    "\n",
    "# this next step may take some time\n",
    "doctopic = clf.fit_transform(X_train_dtm)\n"
   ]
  },
  {
   "cell_type": "code",
   "execution_count": 9,
   "metadata": {
    "collapsed": true
   },
   "outputs": [],
   "source": [
    "topic_words = []\n",
    "\n",
    "for topic in clf.components_:\n",
    "    word_idx = np.argsort(topic)[::-1][0:num_top_words]\n",
    "    topic_words.append([vocab[i] for i in word_idx])"
   ]
  },
  {
   "cell_type": "code",
   "execution_count": 177,
   "metadata": {
    "collapsed": false
   },
   "outputs": [
    {
     "name": "stdout",
     "output_type": "stream",
     "text": [
      "Topic 0: na ko sa nyu hindi yung ung wag\n",
      "Topic 1: order rakuten item card credit error shopping orders\n",
      "Topic 2: phone lazada wrong reason change item product check\n",
      "Topic 3: points purchase card buy days time service going\n",
      "Topic 4: yung ko items na today strap lazada order\n",
      "Topic 5: qoo10 seller refund service return goods stock sg\n",
      "Topic 6: item lazada delivered rider delivery order office customer\n",
      "Topic 7: site seller shipping sellers goods ordered received raukten\n"
     ]
    }
   ],
   "source": [
    "for t in range(len(topic_words)):\n",
    "    print(\"Topic {}: {}\".format(t, ' '.join(topic_words[t][:15])))"
   ]
  },
  {
   "cell_type": "markdown",
   "metadata": {},
   "source": [
    "# Visualizing the topics"
   ]
  },
  {
   "cell_type": "code",
   "execution_count": 178,
   "metadata": {
    "collapsed": false
   },
   "outputs": [
    {
     "name": "stdout",
     "output_type": "stream",
     "text": [
      "(117L, 8L)\n",
      "[[u'na', u'ko', u'sa', u'nyu', u'hindi', u'yung', u'ung', u'wag'], [u'order', u'rakuten', u'item', u'card', u'credit', u'error', u'shopping', u'orders'], [u'phone', u'lazada', u'wrong', u'reason', u'change', u'item', u'product', u'check'], [u'points', u'purchase', u'card', u'buy', u'days', u'time', u'service', u'going'], [u'yung', u'ko', u'items', u'na', u'today', u'strap', u'lazada', u'order'], [u'qoo10', u'seller', u'refund', u'service', u'return', u'goods', u'stock', u'sg'], [u'item', u'lazada', u'delivered', u'rider', u'delivery', u'order', u'office', u'customer'], [u'site', u'seller', u'shipping', u'sellers', u'goods', u'ordered', u'received', u'raukten']]\n"
     ]
    }
   ],
   "source": [
    "print(doctopic.shape)\n",
    "doctopic\n",
    "print(topic_words)"
   ]
  },
  {
   "cell_type": "code",
   "execution_count": 179,
   "metadata": {
    "collapsed": false
   },
   "outputs": [
    {
     "data": {
      "text/plain": [
       "(117, 11)"
      ]
     },
     "execution_count": 179,
     "metadata": {},
     "output_type": "execute_result"
    }
   ],
   "source": [
    "import matplotlib.pyplot as plt\n",
    "\n",
    "dftopic = pd.DataFrame(doctopic,columns=topic_words)\n",
    "dftopicinv=dftopic.T\n",
    "\n",
    "topic_series = []\n",
    "for i in np.arange(dftopic.shape[0]):\n",
    "    topic_series.append(dftopicinv[i].argmax())\n",
    "\n",
    "\n",
    "dftopic['dominanttopic'] = topic_series\n",
    "dftopic['text'] =df.text \n",
    "dftopic['rating'] = df.rating\n",
    "dftopic.shape\n"
   ]
  },
  {
   "cell_type": "code",
   "execution_count": 180,
   "metadata": {
    "collapsed": false
   },
   "outputs": [
    {
     "name": "stdout",
     "output_type": "stream",
     "text": [
      "(ko, rakuten, lazada, purchase, ko, seller, lazada, seller)           32\n",
      "(ung, shopping, product, service, lazada, stock, office, received)    20\n",
      "(wag, orders, check, going, order, sg, customer, raukten)             19\n",
      "(yung, error, item, time, strap, goods, order, ordered)               13\n",
      "(nyu, card, reason, buy, na, service, rider, sellers)                 13\n",
      "(na, order, phone, points, yung, qoo10, item, site)                   10\n",
      "(sa, item, wrong, card, items, refund, delivered, shipping)            8\n",
      "(hindi, credit, change, days, today, return, delivery, goods)          2\n",
      "Name: dominanttopic, dtype: int64\n"
     ]
    }
   ],
   "source": [
    "# Checking the popular dominant topics with the dominanttopic\n",
    "print(dftopic['dominanttopic'].value_counts())"
   ]
  },
  {
   "cell_type": "code",
   "execution_count": 181,
   "metadata": {
    "collapsed": false,
    "scrolled": true
   },
   "outputs": [
    {
     "data": {
      "text/html": [
       "<div>\n",
       "<table border=\"1\" class=\"dataframe\">\n",
       "  <thead>\n",
       "    <tr>\n",
       "      <th></th>\n",
       "      <th>dominanttopic</th>\n",
       "      <th>text</th>\n",
       "    </tr>\n",
       "    <tr>\n",
       "      <th></th>\n",
       "      <th></th>\n",
       "      <th></th>\n",
       "    </tr>\n",
       "    <tr>\n",
       "      <th></th>\n",
       "      <th></th>\n",
       "      <th></th>\n",
       "    </tr>\n",
       "    <tr>\n",
       "      <th></th>\n",
       "      <th></th>\n",
       "      <th></th>\n",
       "    </tr>\n",
       "    <tr>\n",
       "      <th></th>\n",
       "      <th></th>\n",
       "      <th></th>\n",
       "    </tr>\n",
       "    <tr>\n",
       "      <th></th>\n",
       "      <th></th>\n",
       "      <th></th>\n",
       "    </tr>\n",
       "    <tr>\n",
       "      <th></th>\n",
       "      <th></th>\n",
       "      <th></th>\n",
       "    </tr>\n",
       "    <tr>\n",
       "      <th></th>\n",
       "      <th></th>\n",
       "      <th></th>\n",
       "    </tr>\n",
       "  </thead>\n",
       "  <tbody>\n",
       "    <tr>\n",
       "      <th>0</th>\n",
       "      <td>(ung, shopping, product, service, lazada, stoc...</td>\n",
       "      <td>so disappointed!!!\\n\\r\\ni have been waiting fo...</td>\n",
       "    </tr>\n",
       "    <tr>\n",
       "      <th>1</th>\n",
       "      <td>(na, order, phone, points, yung, qoo10, item, ...</td>\n",
       "      <td>I've ordered so many times at Lazada, this was...</td>\n",
       "    </tr>\n",
       "    <tr>\n",
       "      <th>2</th>\n",
       "      <td>(wag, orders, check, going, order, sg, custome...</td>\n",
       "      <td>I ordered toy for this coming christmas for my...</td>\n",
       "    </tr>\n",
       "    <tr>\n",
       "      <th>3</th>\n",
       "      <td>(na, order, phone, points, yung, qoo10, item, ...</td>\n",
       "      <td>I ordered many times dito sa lazaba but ngayon...</td>\n",
       "    </tr>\n",
       "    <tr>\n",
       "      <th>4</th>\n",
       "      <td>(sa, item, wrong, card, items, refund, deliver...</td>\n",
       "      <td>I already bought a lot from this site, but for...</td>\n",
       "    </tr>\n",
       "  </tbody>\n",
       "</table>\n",
       "</div>"
      ],
      "text/plain": [
       "                                       dominanttopic  \\\n",
       "                                                       \n",
       "                                                       \n",
       "                                                       \n",
       "                                                       \n",
       "                                                       \n",
       "                                                       \n",
       "                                                       \n",
       "0  (ung, shopping, product, service, lazada, stoc...   \n",
       "1  (na, order, phone, points, yung, qoo10, item, ...   \n",
       "2  (wag, orders, check, going, order, sg, custome...   \n",
       "3  (na, order, phone, points, yung, qoo10, item, ...   \n",
       "4  (sa, item, wrong, card, items, refund, deliver...   \n",
       "\n",
       "                                                text  \n",
       "                                                      \n",
       "                                                      \n",
       "                                                      \n",
       "                                                      \n",
       "                                                      \n",
       "                                                      \n",
       "                                                      \n",
       "0  so disappointed!!!\\n\\r\\ni have been waiting fo...  \n",
       "1  I've ordered so many times at Lazada, this was...  \n",
       "2  I ordered toy for this coming christmas for my...  \n",
       "3  I ordered many times dito sa lazaba but ngayon...  \n",
       "4  I already bought a lot from this site, but for...  "
      ]
     },
     "execution_count": 181,
     "metadata": {},
     "output_type": "execute_result"
    }
   ],
   "source": [
    "# Checking text with dominant topic\n",
    "dftopic[['dominanttopic','text']].head()"
   ]
  },
  {
   "cell_type": "markdown",
   "metadata": {},
   "source": [
    "# Visualizing Topic"
   ]
  },
  {
   "cell_type": "code",
   "execution_count": 204,
   "metadata": {
    "collapsed": false
   },
   "outputs": [
    {
     "name": "stdout",
     "output_type": "stream",
     "text": [
      "(ko, rakuten, lazada, purchase, ko, seller, lazada, seller)           20\n",
      "(ung, shopping, product, service, lazada, stock, office, received)    16\n",
      "(wag, orders, check, going, order, sg, customer, raukten)             14\n",
      "(nyu, card, reason, buy, na, service, rider, sellers)                 10\n",
      "(yung, error, item, time, strap, goods, order, ordered)                9\n",
      "(na, order, phone, points, yung, qoo10, item, site)                    8\n",
      "(sa, item, wrong, card, items, refund, delivered, shipping)            7\n",
      "(hindi, credit, change, days, today, return, delivery, goods)          2\n",
      "Name: dominanttopic, dtype: int64\n"
     ]
    },
    {
     "data": {
      "image/png": "[encoded data removed]",
      "text/plain": [
       "<matplotlib.figure.Figure at 0xfdc3d68>"
      ]
     },
     "metadata": {},
     "output_type": "display_data"
    }
   ],
   "source": [
    "# What are the common dissatisfactions (rating <=2)\n",
    "dissatisfied_frame =  dftopic[dftopic.rating<='2']\n",
    "value_count = dissatisfied_frame['dominanttopic'].value_counts()\n",
    "print(value_count)\n",
    "\n",
    "# Visualization\n",
    "plt.axis(\"equal\") #The pie chart is oval by default. To make it a circle use pyplot.axis(\"equal\")\n",
    "#To show the percentage of each pie slice, pass an output format to the autopctparameter \n",
    "plt.pie(value_count.values,labels=value_count.index,autopct=\"%1.1f%%\") \n",
    "plt.title(\"Dissatisfaction Topics\")\n",
    "plt.show()"
   ]
  },
  {
   "cell_type": "code",
   "execution_count": 206,
   "metadata": {
    "collapsed": false
   },
   "outputs": [
    {
     "name": "stdout",
     "output_type": "stream",
     "text": [
      "(ko, rakuten, lazada, purchase, ko, seller, lazada, seller)           12\n",
      "(wag, orders, check, going, order, sg, customer, raukten)              5\n",
      "(yung, error, item, time, strap, goods, order, ordered)                4\n",
      "(ung, shopping, product, service, lazada, stock, office, received)     4\n",
      "(nyu, card, reason, buy, na, service, rider, sellers)                  3\n",
      "(na, order, phone, points, yung, qoo10, item, site)                    2\n",
      "(sa, item, wrong, card, items, refund, delivered, shipping)            1\n",
      "Name: dominanttopic, dtype: int64\n"
     ]
    },
    {
     "data": {
      "image/png": "[encoded data removed]",
      "text/plain": [
       "<matplotlib.figure.Figure at 0x12047978>"
      ]
     },
     "metadata": {},
     "output_type": "display_data"
    }
   ],
   "source": [
    "# What are the common satisfactions (rating >=3)\n",
    "satisfied_frame =  dftopic[dftopic.rating>='3']\n",
    "\n",
    "value_count = satisfied_frame['dominanttopic'].value_counts()\n",
    "print(value_count)\n",
    "\n",
    "# Visualization\n",
    "plt.axis(\"equal\") #The pie chart is oval by default. To make it a circle use pyplot.axis(\"equal\")\n",
    "#To show the percentage of each pie slice, pass an output format to the autopctparameter \n",
    "plt.pie(value_count.values,labels=value_count.index,autopct=\"%1.1f%%\") \n",
    "plt.title(\"Satisfaction Topics\")\n",
    "plt.show()"
   ]
  },
  {
   "cell_type": "markdown",
   "metadata": {},
   "source": [
    "# Insights found\n",
    "1. Buyers are most satisfied and disatisfied with purchases,stocks, and services from sellers\n",
    "2. Buyers are most dissatisfied because of the stocks provided (empty) and late time of delivery\n",
    "3. Buyers are most satisfied because of the timely delivery or the high quality service from the sellers (cancellation policy)"
   ]
  },
  {
   "cell_type": "code",
   "execution_count": 233,
   "metadata": {
    "collapsed": false
   },
   "outputs": [
    {
     "data": {
      "text/plain": [
       "7     Thank you Lazada for responding in a very time...\n",
       "8     so far, I already ordered two item in lazada, ...\n",
       "13    Hi Lazada, i just want to thank you for cancel...\n",
       "21    12/12/16 - Order 335938579\\r\\ni accidentally c...\n",
       "24    I just cancelled my order.Now I checked its st...\n",
       "Name: text, dtype: object"
      ]
     },
     "execution_count": 233,
     "metadata": {},
     "output_type": "execute_result"
    }
   ],
   "source": [
    "# Example texts\n",
    "satisfied_frame.text.head()"
   ]
  },
  {
   "cell_type": "code",
   "execution_count": 223,
   "metadata": {
    "collapsed": false
   },
   "outputs": [
    {
     "data": {
      "text/plain": [
       "0    so disappointed!!!\\n\\r\\ni have been waiting fo...\n",
       "1    I've ordered so many times at Lazada, this was...\n",
       "2    I ordered toy for this coming christmas for my...\n",
       "3    I ordered many times dito sa lazaba but ngayon...\n",
       "4    I already bought a lot from this site, but for...\n",
       "Name: text, dtype: object"
      ]
     },
     "execution_count": 223,
     "metadata": {},
     "output_type": "execute_result"
    }
   ],
   "source": [
    "# Example texts\n",
    "dissatisfied_frame.text.head()"
   ]
  }
 ],
 "metadata": {
  "anaconda-cloud": {},
  "kernelspec": {
   "display_name": "Python [conda root]",
   "language": "python",
   "name": "conda-root-py"
  },
  "language_info": {
   "codemirror_mode": {
    "name": "ipython",
    "version": 3
   },
   "file_extension": ".py",
   "mimetype": "text/x-python",
   "name": "python",
   "nbconvert_exporter": "python",
   "pygments_lexer": "ipython3",
   "version": "3.5.2"
  }
 },
 "nbformat": 4,
 "nbformat_minor": 0
}
